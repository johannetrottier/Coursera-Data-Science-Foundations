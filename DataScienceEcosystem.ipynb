{
 "cells": [
  {
   "cell_type": "markdown",
   "id": "50d7c06a-a005-40ca-b687-cbd97e13dcc4",
   "metadata": {},
   "source": [
    "# Data Science Tools and Ecosystem"
   ]
  },
  {
   "cell_type": "markdown",
   "id": "c8fa8820-268c-40d7-ad11-3ca109b165d6",
   "metadata": {},
   "source": [
    "In this notebook, Data Science Tools and Ecosystem are summarized."
   ]
  },
  {
   "cell_type": "markdown",
   "id": "66603935-07c8-400e-8095-1d5e99404ceb",
   "metadata": {},
   "source": [
    "## Author \n",
    "Johanne Trottier"
   ]
  },
  {
   "cell_type": "markdown",
   "id": "33fe199a-c1f1-469b-bd3e-c195ae5211ef",
   "metadata": {},
   "source": [
    "**Objectives**\n",
    "- List popular languages\n",
    "- List of python librairies frequently used Data scientist\n",
    "- List of Data science tools\n",
    "- Exemple of code (aryhtmetic expression) "
   ]
  },
  {
   "cell_type": "markdown",
   "id": "28eeba2e-7e98-4380-b390-c689698f0bd5",
   "metadata": {},
   "source": [
    "1. Pyhon \n",
    "2. R\n",
    "3. Julia"
   ]
  },
  {
   "cell_type": "markdown",
   "id": "3ba4c965-74e3-464e-8bd3-2ee80526f885",
   "metadata": {},
   "source": [
    "Some of the commonly used libraries used by Data Scientists include:"
   ]
  },
  {
   "cell_type": "markdown",
   "id": "a5a28891-3ca1-47f0-ac0b-0fe649657aaf",
   "metadata": {},
   "source": [
    "#### In Python\n",
    "1. NumPy\n",
    "2. Matplotlib\n",
    "3. Pandas\n",
    "4. SciPy\n",
    "5. PyTorch\n",
    "6. Seaborn\n",
    "\n",
    "#### In R\n",
    "1. GGPlot\n",
    "2. GGaly\n",
    "3. dplyr\n",
    "4. Caret"
   ]
  },
  {
   "cell_type": "markdown",
   "id": "5d80b8dc-a89f-4a00-96e1-39dd31502321",
   "metadata": {},
   "source": [
    "|Data Science Tools|\n",
    "|--------|\n",
    "|Jupyter Notebooks - JupyterLab|\n",
    "|VS Code| \n",
    "|Watson Studio|\n",
    "|RStudio IDE|\n",
    "|GitHub|\n"
   ]
  },
  {
   "cell_type": "markdown",
   "id": "90432b57-1719-41ac-9a99-d0866a9c2648",
   "metadata": {},
   "source": [
    "### Below are a few examples of evaluating arithmetic expressions in Python.\n",
    "----------------"
   ]
  },
  {
   "cell_type": "code",
   "execution_count": 23,
   "id": "e890edd3-d7cb-4764-8322-186daff1ce9a",
   "metadata": {},
   "outputs": [
    {
     "data": {
      "text/html": [
       "17"
      ],
      "text/latex": [
       "17"
      ],
      "text/markdown": [
       "17"
      ],
      "text/plain": [
       "[1] 17"
      ]
     },
     "metadata": {},
     "output_type": "display_data"
    }
   ],
   "source": [
    "#This a simple arithmetic expression to mutiply then add integers\n",
    "(3*4)+5"
   ]
  },
  {
   "cell_type": "code",
   "execution_count": 25,
   "id": "656aec5e-afa2-41cf-a67b-e69f4b921384",
   "metadata": {},
   "outputs": [
    {
     "data": {
      "text/html": [
       "3.33333333333333"
      ],
      "text/latex": [
       "3.33333333333333"
      ],
      "text/markdown": [
       "3.33333333333333"
      ],
      "text/plain": [
       "[1] 3.333333"
      ]
     },
     "metadata": {},
     "output_type": "display_data"
    }
   ],
   "source": [
    "#This will convert 200 minutes to hours by diving by 60\n",
    "200/60"
   ]
  },
  {
   "cell_type": "code",
   "execution_count": null,
   "id": "81430fb8-0ff8-4c30-b619-e15d16e072e2",
   "metadata": {},
   "outputs": [],
   "source": []
  }
 ],
 "metadata": {
  "kernelspec": {
   "display_name": "R [conda env:TestCoursera]",
   "language": "R",
   "name": "conda-env-TestCoursera-r"
  },
  "language_info": {
   "codemirror_mode": "r",
   "file_extension": ".r",
   "mimetype": "text/x-r-source",
   "name": "R",
   "pygments_lexer": "r",
   "version": "3.6.1"
  }
 },
 "nbformat": 4,
 "nbformat_minor": 5
}
